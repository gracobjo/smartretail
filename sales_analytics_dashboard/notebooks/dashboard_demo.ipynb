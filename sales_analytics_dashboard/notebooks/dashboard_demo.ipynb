{
  "cells": [
    {
      "cell_type": "markdown",
      "metadata": {},
      "source": [
        "# SmartRetail - Dashboard de Ventas\n\nEste notebook forma parte del proyecto SmartRetail."
      ]
    },
    {
      "cell_type": "code",
      "execution_count": null,
      "metadata": {},
      "outputs": [],
      "source": [
        "# Importar librerías básicas\n",
        "import pandas as pd\n",
        "import numpy as np\n",
        "import matplotlib.pyplot as plt\n",
        "import seaborn as sns\n",
        "print('✅ Notebook cargado correctamente!')\n",
        "print(f'📊 {title}')\n",
        "\n",
        "# Configurar estilo\n",
        "plt.style.use('default')\n",
        "sns.set_palette('husl')\n",
        "\n",
        "# Generar datos de ejemplo\n",
        "np.random.seed(42)\n",
        "data = pd.DataFrame({\n",
        "    'x': np.random.randn(100),\n",
        "    'y': np.random.randn(100),\n",
        "    'category': np.random.choice(['A', 'B', 'C'], 100)\n",
        "})\n",
        "\n",
        "print('📈 Datos de ejemplo generados:')\n",
        "print(data.head())\n",
        "\n",
        "# Visualización básica\n",
        "plt.figure(figsize=(10, 6))\n",
        "plt.scatter(data['x'], data['y'], c=data['category'].astype('category').cat.codes)\n",
        "plt.title('Visualización de Datos - SmartRetail')\n",
        "plt.xlabel('Variable X')\n",
        "plt.ylabel('Variable Y')\n",
        "plt.show()\n",
        "\n",
        "print('🎉 Análisis completado exitosamente!')"
      ]
    }
  ],
  "metadata": {
    "kernelspec": {
      "display_name": "Python 3",
      "language": "python",
      "name": "python3"
    },
    "language_info": {
      "codemirror_mode": {
        "name": "ipython",
        "version": 3
      },
      "file_extension": ".py",
      "nbconvert_exporter": "python",
      "mimetype": "text/x-python",
      "name": "python",
      "pygments_lexer": "ipython3",
      "version": "3.8.5"
    }
  },
  "nbformat": 4,
  "nbformat_minor": 4
}